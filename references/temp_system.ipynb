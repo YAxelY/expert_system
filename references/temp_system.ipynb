{
 "cells": [
  {
   "cell_type": "markdown",
   "id": "d5416f2a",
   "metadata": {},
   "source": [
    "# Système Expert Médical\n",
    "\n",
    "Ce notebook implémente un système expert médical qui :\n",
    "1. Analyse les symptômes pour établir un diagnostic\n",
    "2. Recommande des médicaments appropriés\n",
    "3. Fournit des explications sur les décisions prises"
   ]
  },
  {
   "cell_type": "code",
   "execution_count": 1,
   "id": "8007c01b",
   "metadata": {},
   "outputs": [],
   "source": [
    "import pandas as pd\n",
    "import numpy as np\n",
    "from mlxtend.frequent_patterns import apriori, association_rules\n",
    "from sklearn.preprocessing import MultiLabelBinarizer\n",
    "import json\n",
    "from typing import List, Dict, Tuple\n",
    "import warnings\n",
    "warnings.filterwarnings('ignore')"
   ]
  },
  {
   "cell_type": "markdown",
   "id": "a9ab7e4c",
   "metadata": {},
   "source": [
    "## 1. Chargement et préparation des données"
   ]
  },
  {
   "cell_type": "code",
   "execution_count": 2,
   "id": "4f159417",
   "metadata": {
    "lines_to_next_cell": 1
   },
   "outputs": [],
   "source": [
    "# Chargement des données\n",
    "medical_records = pd.read_csv('clean_medical_records.csv')\n",
    "medications = pd.read_csv('openfda_meds.csv')\n",
    "\n",
    "# Conversion des symptômes en liste\n",
    "medical_records['symptoms'] = medical_records['symptoms'].apply(eval)\n",
    "\n",
    "# Création d'une matrice binaire pour les symptômes\n",
    "mlb = MultiLabelBinarizer()\n",
    "symptoms_matrix = pd.DataFrame(\n",
    "    mlb.fit_transform(medical_records['symptoms']),\n",
    "    columns=mlb.classes_,\n",
    "    index=medical_records.index\n",
    ")"
   ]
  },
  {
   "cell_type": "markdown",
   "id": "0e8c9694",
   "metadata": {},
   "source": [
    "## 2. Génération des règles d'association"
   ]
  },
  {
   "cell_type": "code",
   "execution_count": 3,
   "id": "2aa935fb",
   "metadata": {
    "lines_to_next_cell": 1
   },
   "outputs": [
    {
     "name": "stdout",
     "output_type": "stream",
     "text": [
      "Nombre de règles générées : 6\n"
     ]
    }
   ],
   "source": [
    "def generate_association_rules(min_support=0.1, min_confidence=0.5):\n",
    "    \"\"\"Génère les règles d'association entre symptômes et diagnostics\"\"\"\n",
    "    # Génération des itemsets fréquents\n",
    "    frequent_itemsets = apriori(symptoms_matrix, min_support=min_support, use_colnames=True)\n",
    "    \n",
    "    # Génération des règles\n",
    "    rules = association_rules(frequent_itemsets, metric=\"confidence\", min_threshold=min_confidence)\n",
    "    \n",
    "    return rules\n",
    "\n",
    "# Génération des règles\n",
    "rules = generate_association_rules()\n",
    "print(f\"Nombre de règles générées : {len(rules)}\")"
   ]
  },
  {
   "cell_type": "markdown",
   "id": "58ed0b23",
   "metadata": {},
   "source": [
    "## 3. Système de diagnostic"
   ]
  },
  {
   "cell_type": "code",
   "execution_count": 4,
   "id": "4e25f5cf",
   "metadata": {},
   "outputs": [],
   "source": [
    "class MedicalExpertSystem:\n",
    "    def __init__(self, rules: pd.DataFrame, medical_records: pd.DataFrame, medications: pd.DataFrame):\n",
    "        self.rules = rules\n",
    "        self.medical_records = medical_records\n",
    "        self.medications = medications\n",
    "        \n",
    "    def diagnose(self, symptoms: List[str]) -> Tuple[str, float, str]:\n",
    "        \"\"\"\n",
    "        Établit un diagnostic basé sur les symptômes fournis\n",
    "        \n",
    "        Args:\n",
    "            symptoms: Liste des symptômes\n",
    "            \n",
    "        Returns:\n",
    "            Tuple contenant (diagnostic, confiance, explication)\n",
    "        \"\"\"\n",
    "        # Recherche des règles correspondant aux symptômes\n",
    "        matching_rules = self.rules[\n",
    "            self.rules['antecedents'].apply(lambda x: all(s in x for s in symptoms))\n",
    "        ]\n",
    "        \n",
    "        if len(matching_rules) == 0:\n",
    "            return None, 0.0, \"Aucune règle ne correspond aux symptômes fournis\"\n",
    "        \n",
    "        # Sélection de la règle avec la plus haute confiance\n",
    "        best_rule = matching_rules.loc[matching_rules['confidence'].idxmax()]\n",
    "        \n",
    "        # Recherche du diagnostic correspondant\n",
    "        diagnosis = self.medical_records[\n",
    "            self.medical_records['symptoms'].apply(lambda x: all(s in x for s in symptoms))\n",
    "        ]['diagnosis'].mode().iloc[0]\n",
    "        \n",
    "        # Génération de l'explication\n",
    "        explanation = f\"Diagnostic basé sur la présence des symptômes : {', '.join(symptoms)}. \"\n",
    "        explanation += f\"Confiance : {best_rule['confidence']:.2%}\"\n",
    "        \n",
    "        return diagnosis, best_rule['confidence'], explanation\n",
    "    \n",
    "    def recommend_medications(self, diagnosis: str) -> List[Dict]:\n",
    "        \"\"\"\n",
    "        Recommande des médicaments pour un diagnostic donné\n",
    "        \n",
    "        Args:\n",
    "            diagnosis: Le diagnostic établi\n",
    "            \n",
    "        Returns:\n",
    "            Liste des médicaments recommandés avec leurs informations\n",
    "        \"\"\"\n",
    "        # Recherche des médicaments pertinents\n",
    "        relevant_meds = self.medications[\n",
    "            self.medications['indications'].str.contains(diagnosis, case=False, na=False)\n",
    "        ]\n",
    "        \n",
    "        if len(relevant_meds) == 0:\n",
    "            return []\n",
    "        \n",
    "        # Formatage des résultats\n",
    "        recommendations = []\n",
    "        for _, med in relevant_meds.iterrows():\n",
    "            recommendations.append({\n",
    "                'name': med['brand_name'],\n",
    "                'purpose': med['purpose'],\n",
    "                'indications': med['indications']\n",
    "            })\n",
    "        \n",
    "        return recommendations\n",
    "\n",
    "# Création de l'instance du système expert\n",
    "expert_system = MedicalExpertSystem(rules, medical_records, medications)"
   ]
  },
  {
   "cell_type": "markdown",
   "id": "4879c830",
   "metadata": {},
   "source": [
    "## 4. Tests du système"
   ]
  },
  {
   "cell_type": "code",
   "execution_count": 5,
   "id": "4879c4fa",
   "metadata": {},
   "outputs": [
    {
     "name": "stdout",
     "output_type": "stream",
     "text": [
      "Diagnostic : None\n",
      "Confiance : 0.00%\n",
      "Explication : Aucune règle ne correspond aux symptômes fournis\n"
     ]
    }
   ],
   "source": [
    "# Test avec quelques symptômes\n",
    "test_symptoms = ['fièvre', 'toux', 'fatigue']\n",
    "diagnosis, confidence, explanation = expert_system.diagnose(test_symptoms)\n",
    "print(f\"Diagnostic : {diagnosis}\")\n",
    "print(f\"Confiance : {confidence:.2%}\")\n",
    "print(f\"Explication : {explanation}\")\n",
    "\n",
    "# Recommandations de médicaments\n",
    "if diagnosis:\n",
    "    recommendations = expert_system.recommend_medications(diagnosis)\n",
    "    print(\"\\nMédicaments recommandés :\")\n",
    "    for med in recommendations:\n",
    "        print(f\"\\n- {med['name']}\")\n",
    "        print(f\"  But : {med['purpose']}\")\n",
    "        print(f\"  Indications : {med['indications']}\")"
   ]
  },
  {
   "cell_type": "markdown",
   "id": "13bebba9",
   "metadata": {},
   "source": [
    "## 5. Intégration avec l'API Flask"
   ]
  },
  {
   "cell_type": "code",
   "execution_count": 6,
   "id": "b533212c",
   "metadata": {},
   "outputs": [
    {
     "name": "stdout",
     "output_type": "stream",
     "text": [
      " * Serving Flask app '__main__'\n",
      " * Debug mode: on\n"
     ]
    },
    {
     "name": "stderr",
     "output_type": "stream",
     "text": [
      "\u001b[31m\u001b[1mWARNING: This is a development server. Do not use it in a production deployment. Use a production WSGI server instead.\u001b[0m\n",
      " * Running on http://127.0.0.1:5000\n",
      "\u001b[33mPress CTRL+C to quit\u001b[0m\n",
      " * Restarting with stat\n",
      "Traceback (most recent call last):\n",
      "  File \"<frozen runpy>\", line 198, in _run_module_as_main\n",
      "  File \"<frozen runpy>\", line 88, in _run_code\n",
      "  File \"/home/axel/Downloads/ownMade/notionsPractices/注記/2025 jan-mars(1st cycle) /project/fouille de données/eclat/expert system/venv/lib/python3.12/site-packages/ipykernel_launcher.py\", line 18, in <module>\n",
      "    app.launch_new_instance()\n",
      "  File \"/home/axel/Downloads/ownMade/notionsPractices/注記/2025 jan-mars(1st cycle) /project/fouille de données/eclat/expert system/venv/lib/python3.12/site-packages/traitlets/config/application.py\", line 1074, in launch_instance\n",
      "    app.initialize(argv)\n",
      "  File \"/home/axel/Downloads/ownMade/notionsPractices/注記/2025 jan-mars(1st cycle) /project/fouille de données/eclat/expert system/venv/lib/python3.12/site-packages/traitlets/config/application.py\", line 118, in inner\n",
      "    return method(app, *args, **kwargs)\n",
      "           ^^^^^^^^^^^^^^^^^^^^^^^^^^^^\n",
      "  File \"/home/axel/Downloads/ownMade/notionsPractices/注記/2025 jan-mars(1st cycle) /project/fouille de données/eclat/expert system/venv/lib/python3.12/site-packages/ipykernel/kernelapp.py\", line 692, in initialize\n",
      "    self.init_sockets()\n",
      "  File \"/home/axel/Downloads/ownMade/notionsPractices/注記/2025 jan-mars(1st cycle) /project/fouille de données/eclat/expert system/venv/lib/python3.12/site-packages/ipykernel/kernelapp.py\", line 331, in init_sockets\n",
      "    self.shell_port = self._bind_socket(self.shell_socket, self.shell_port)\n",
      "                      ^^^^^^^^^^^^^^^^^^^^^^^^^^^^^^^^^^^^^^^^^^^^^^^^^^^^^\n",
      "  File \"/home/axel/Downloads/ownMade/notionsPractices/注記/2025 jan-mars(1st cycle) /project/fouille de données/eclat/expert system/venv/lib/python3.12/site-packages/ipykernel/kernelapp.py\", line 253, in _bind_socket\n",
      "    return self._try_bind_socket(s, port)\n",
      "           ^^^^^^^^^^^^^^^^^^^^^^^^^^^^^^\n",
      "  File \"/home/axel/Downloads/ownMade/notionsPractices/注記/2025 jan-mars(1st cycle) /project/fouille de données/eclat/expert system/venv/lib/python3.12/site-packages/ipykernel/kernelapp.py\", line 229, in _try_bind_socket\n",
      "    s.bind(\"tcp://%s:%i\" % (self.ip, port))\n",
      "  File \"/home/axel/Downloads/ownMade/notionsPractices/注記/2025 jan-mars(1st cycle) /project/fouille de données/eclat/expert system/venv/lib/python3.12/site-packages/zmq/sugar/socket.py\", line 320, in bind\n",
      "    super().bind(addr)\n",
      "  File \"_zmq.py\", line 942, in zmq.backend.cython._zmq.Socket.bind\n",
      "  File \"_zmq.py\", line 180, in zmq.backend.cython._zmq._check_rc\n",
      "zmq.error.ZMQError: Address already in use (addr='tcp://127.0.0.1:9010')\n"
     ]
    },
    {
     "ename": "SystemExit",
     "evalue": "1",
     "output_type": "error",
     "traceback": [
      "An exception has occurred, use %tb to see the full traceback.\n",
      "\u001b[31mSystemExit\u001b[39m\u001b[31m:\u001b[39m 1\n"
     ]
    }
   ],
   "source": [
    "from flask import Flask, request, jsonify\n",
    "\n",
    "app = Flask(__name__)\n",
    "\n",
    "@app.route(\"/diagnose\", methods=[\"POST\"])\n",
    "def diagnose():\n",
    "    data = request.get_json()\n",
    "    symptoms = data.get(\"symptoms\", [])\n",
    "    \n",
    "    if not symptoms:\n",
    "        return jsonify({\"error\": \"Aucun symptôme fourni\"}), 400\n",
    "\n",
    "    diagnosis, confidence, explanation = expert_system.diagnose(symptoms)\n",
    "    \n",
    "    if not diagnosis:\n",
    "        return jsonify({\"error\": \"Impossible d'établir un diagnostic\"}), 404\n",
    "    \n",
    "    recommendations = expert_system.recommend_medications(diagnosis)\n",
    "    \n",
    "    return jsonify({\n",
    "        \"diagnosis\": diagnosis,\n",
    "        \"confidence\": confidence,\n",
    "        \"explanation\": explanation,\n",
    "        \"recommendations\": recommendations\n",
    "    })\n",
    "\n",
    "if __name__ == \"__main__\":\n",
    "    app.run(debug=True) "
   ]
  }
 ],
 "metadata": {
  "jupytext": {
   "cell_metadata_filter": "-all",
   "main_language": "python",
   "notebook_metadata_filter": "-all"
  },
  "kernelspec": {
   "display_name": "venv",
   "language": "python",
   "name": "python3"
  },
  "language_info": {
   "codemirror_mode": {
    "name": "ipython",
    "version": 3
   },
   "file_extension": ".py",
   "mimetype": "text/x-python",
   "name": "python",
   "nbconvert_exporter": "python",
   "pygments_lexer": "ipython3",
   "version": "3.12.3"
  }
 },
 "nbformat": 4,
 "nbformat_minor": 5
}
