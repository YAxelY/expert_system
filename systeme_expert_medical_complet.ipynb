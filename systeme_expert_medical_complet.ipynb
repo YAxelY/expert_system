{
 "cells": [
  {
   "cell_type": "markdown",
   "id": "0d7a9e8b",
   "metadata": {},
   "source": [
    "# Système Expert Médical Complet\n",
    "\n",
    "Ce notebook présente la conception, l’implémentation et l’explication détaillée d’un système expert médical moderne, intégrant :\n",
    "- La collecte multi-sources de données (SQLite, JSON, API)\n",
    "- Un pipeline ETL robuste (nettoyage, fusion, validation)\n",
    "- Des analyses et visualisations avancées\n",
    "- La fouille de motifs fréquents (Apriori, FP-Growth, Eclat)\n",
    "- Un moteur d’inférence basé sur les règles d’association\n",
    "- Un système d’apprentissage incrémental\n",
    "- Une API Flask pour le diagnostic et l’apprentissage\n",
    "- Un déploiement facilité par Docker"
   ]
  },
  {
   "cell_type": "markdown",
   "id": "713a3243",
   "metadata": {},
   "source": [
    "## 🗺️ Schéma général du pipeline"
   ]
  },
  {
   "cell_type": "markdown",
   "id": "2e1423f7",
   "metadata": {},
   "source": [
    "▶️ **Exécuter cette cellule pour afficher le pipeline**"
   ]
  },
  {
   "cell_type": "code",
   "execution_count": 3,
   "id": "226a0933",
   "metadata": {},
   "outputs": [
    {
     "ename": "ModuleNotFoundError",
     "evalue": "No module named 'graphviz'",
     "output_type": "error",
     "traceback": [
      "\u001b[31m---------------------------------------------------------------------------\u001b[39m",
      "\u001b[31mModuleNotFoundError\u001b[39m                       Traceback (most recent call last)",
      "\u001b[36mCell\u001b[39m\u001b[36m \u001b[39m\u001b[32mIn[3]\u001b[39m\u001b[32m, line 1\u001b[39m\n\u001b[32m----> \u001b[39m\u001b[32m1\u001b[39m \u001b[38;5;28;01mfrom\u001b[39;00m\u001b[38;5;250m \u001b[39m\u001b[34;01mgraphviz\u001b[39;00m\u001b[38;5;250m \u001b[39m\u001b[38;5;28;01mimport\u001b[39;00m Digraph\n\u001b[32m      2\u001b[39m dot = Digraph(comment=\u001b[33m'\u001b[39m\u001b[33mPipeline Système Expert Médical\u001b[39m\u001b[33m'\u001b[39m, \u001b[38;5;28mformat\u001b[39m=\u001b[33m'\u001b[39m\u001b[33mpng\u001b[39m\u001b[33m'\u001b[39m)\n\u001b[32m      3\u001b[39m dot.attr(rankdir=\u001b[33m'\u001b[39m\u001b[33mLR\u001b[39m\u001b[33m'\u001b[39m)\n",
      "\u001b[31mModuleNotFoundError\u001b[39m: No module named 'graphviz'"
     ]
    }
   ],
   "source": [
    "from graphviz import Digraph\n",
    "dot = Digraph(comment='Pipeline Système Expert Médical', format='png')\n",
    "dot.attr(rankdir='LR')\n",
    "dot.node('A', 'Sources de données\\n(SQLite, JSON, API)')\n",
    "dot.node('B', 'Nettoyage & Fusion')\n",
    "dot.node('C', 'Données structurées\\n(CSV fusionné)')\n",
    "dot.node('D', 'Fouille de motifs\\n(Apriori, FP-Growth, Eclat)')\n",
    "dot.node('E', 'Moteur d\\'inférence\\nRègles d\\'association')\n",
    "dot.node('F', 'API Flask\\n(Diagnostic, Apprentissage)')\n",
    "dot.edges(['AB', 'BC', 'CD', 'DE', 'EF'])\n",
    "dot.render('pipeline_expert_medical', view=True)\n",
    "dot"
   ]
  },
  {
   "cell_type": "markdown",
   "id": "bb9bcd14",
   "metadata": {},
   "source": [
    "## 1️⃣ Introduction\n",
    "\n",
    "La médecine moderne s’appuie de plus en plus sur la donnée pour améliorer le diagnostic, la prise en charge et la personnalisation des traitements. Ce projet vise à construire un système expert médical, capable de :\n",
    "- Diagnostiquer à partir de symptômes\n",
    "- Recommander des traitements/médicaments\n",
    "- Apprendre de nouveaux cas en continu\n",
    "- Être interfaçable via une API web\n",
    "\n",
    "**Justification des choix** :  \n",
    "- Multi-sources = richesse et robustesse des connaissances  \n",
    "- Fouille de motifs = découverte de patterns médicaux pertinents  \n",
    "- API = intégration facile et déploiement cloud"
   ]
  },
  {
   "cell_type": "markdown",
   "id": "5905ebec",
   "metadata": {},
   "source": [
    "## 2️⃣ Collecte de données multi-sources\n",
    "\n",
    "**Sources utilisées** :\n",
    "- `data/raw/clean_medical_records.csv` : données structurées fusionnées\n",
    "- `data/raw/patients.json` : cas patients non structurés\n",
    "- `data/raw/openfda_meds.csv` : base médicaments (issue d’OpenFDA ou équivalent)\n",
    "- (Optionnel) Base SQLite pour historique ou logs"
   ]
  },
  {
   "cell_type": "markdown",
   "id": "1adb3eed",
   "metadata": {},
   "source": [
    "▶️ **RUN** : Charger toutes les sources de données"
   ]
  },
  {
   "cell_type": "code",
   "execution_count": null,
   "id": "88604ef0",
   "metadata": {},
   "outputs": [],
   "source": [
    "import pandas as pd\n",
    "import json\n",
    "import sqlite3\n",
    "\n",
    "# Chargement du CSV fusionné (structuré)\n",
    "df_structured = pd.read_csv('data/raw/clean_medical_records.csv')\n",
    "print(\"Exemple données structurées :\")\n",
    "display(df_structured.head())\n",
    "\n",
    "# Chargement du JSON (patients non structurés)\n",
    "with open('data/raw/patients.json', 'r', encoding='utf-8') as f:\n",
    "    patients_json = json.load(f)\n",
    "print(\"Exemple patient JSON :\")\n",
    "print(patients_json[0])\n",
    "\n",
    "# Chargement de la base médicaments\n",
    "df_meds = pd.read_csv('data/raw/openfda_meds.csv')\n",
    "print(\"Exemple médicaments :\")\n",
    "display(df_meds.head())\n",
    "\n",
    "# (Optionnel) Connexion à une base SQLite\n",
    "# conn = sqlite3.connect('data/raw/medical_data.db')\n",
    "# df_sql = pd.read_sql_query(\"SELECT * FROM patients\", conn)\n",
    "# print(\"Exemple données SQLite :\")\n",
    "# display(df_sql.head())\n",
    "# conn.close()"
   ]
  },
  {
   "cell_type": "markdown",
   "id": "ba4d2e6c",
   "metadata": {},
   "source": [
    "## 3️⃣ Nettoyage, fusion et validation des données\n",
    "\n",
    "**Explications** :\n",
    "- Gestion des valeurs manquantes\n",
    "- Normalisation des symptômes (ex : minuscules, accents, synonymes…)\n",
    "- Fusion des sources (CSV, JSON, SQLite)\n",
    "- Validation (unicité, cohérence, types)"
   ]
  },
  {
   "cell_type": "markdown",
   "id": "411255fa",
   "metadata": {},
   "source": [
    "▶️ **RUN** : Nettoyer et fusionner les données"
   ]
  },
  {
   "cell_type": "code",
   "execution_count": null,
   "id": "a3e0ef4b",
   "metadata": {},
   "outputs": [],
   "source": [
    "# Nettoyage des symptômes (exemple)\n",
    "def normalize_symptoms(symptom_list):\n",
    "    import unidecode\n",
    "    return [unidecode.unidecode(s.lower().strip()) for s in symptom_list]\n",
    "\n",
    "# Application sur le CSV\n",
    "df_structured['symptoms_norm'] = df_structured['symptoms'].apply(eval).apply(normalize_symptoms)\n",
    "\n",
    "# Ajout des patients JSON à la structure\n",
    "json_patients_df = pd.DataFrame(patients_json)\n",
    "json_patients_df['symptoms_norm'] = json_patients_df['symptoms'].apply(normalize_symptoms)\n",
    "\n",
    "# Fusion (exemple)\n",
    "df_all = pd.concat([df_structured, json_patients_df], ignore_index=True)\n",
    "print(f\"Nombre total de cas fusionnés : {len(df_all)}\")\n",
    "display(df_all.head())"
   ]
  },
  {
   "cell_type": "markdown",
   "id": "db85e7be",
   "metadata": {},
   "source": [
    "## 4️⃣ Visualisations et analyses descriptives\n",
    "\n",
    "**Distribution des diagnostics :**"
   ]
  },
  {
   "cell_type": "code",
   "execution_count": null,
   "id": "e29990b7",
   "metadata": {},
   "outputs": [],
   "source": [
    "import matplotlib.pyplot as plt\n",
    "import seaborn as sns\n",
    "\n",
    "plt.figure(figsize=(10,4))\n",
    "sns.countplot(y='diagnosis', data=df_all, order=df_all['diagnosis'].value_counts().index)\n",
    "plt.title('Distribution des diagnostics')\n",
    "plt.xlabel('Nombre de cas')\n",
    "plt.ylabel('Diagnostic')\n",
    "plt.show()"
   ]
  },
  {
   "cell_type": "markdown",
   "id": "69f8ea2d",
   "metadata": {},
   "source": [
    "**Cooccurrence des symptômes (matrice de chaleur) :**"
   ]
  },
  {
   "cell_type": "markdown",
   "id": "e1448e57",
   "metadata": {},
   "source": [
    "▶️ **RUN** : Visualiser la cooccurrence des symptômes"
   ]
  },
  {
   "cell_type": "code",
   "execution_count": null,
   "id": "34a11699",
   "metadata": {},
   "outputs": [],
   "source": [
    "from itertools import combinations\n",
    "from collections import Counter\n",
    "import numpy as np\n",
    "\n",
    "# Création de la matrice de cooccurrence\n",
    "all_symptoms = [s for sublist in df_all['symptoms_norm'] for s in sublist]\n",
    "unique_symptoms = list(set(all_symptoms))\n",
    "symptom_pairs = Counter()\n",
    "\n",
    "for symptoms in df_all['symptoms_norm']:\n",
    "    for pair in combinations(sorted(set(symptoms)), 2):\n",
    "        symptom_pairs[pair] += 1\n",
    "\n",
    "matrix = np.zeros((len(unique_symptoms), len(unique_symptoms)))\n",
    "for (s1, s2), count in symptom_pairs.items():\n",
    "    i, j = unique_symptoms.index(s1), unique_symptoms.index(s2)\n",
    "    matrix[i, j] = count\n",
    "    matrix[j, i] = count\n",
    "\n",
    "plt.figure(figsize=(12,10))\n",
    "sns.heatmap(matrix, xticklabels=unique_symptoms, yticklabels=unique_symptoms, cmap='YlGnBu')\n",
    "plt.title('Matrice de cooccurrence des symptômes')\n",
    "plt.show()"
   ]
  },
  {
   "cell_type": "markdown",
   "id": "28f1fff0",
   "metadata": {},
   "source": [
    "## 5️⃣ Historique et comparaison des algorithmes de motifs fréquents\n",
    "\n",
    "*(À compléter dans les prochaines cellules : explications, implémentations, comparaisons)*"
   ]
  },
  {
   "cell_type": "code",
   "execution_count": null,
   "id": "8544d643",
   "metadata": {},
   "outputs": [],
   "source": []
  },
  {
   "cell_type": "markdown",
   "id": "a55763df",
   "metadata": {},
   "source": []
  }
 ],
 "metadata": {
  "kernelspec": {
   "display_name": ".venv",
   "language": "python",
   "name": "python3"
  },
  "language_info": {
   "codemirror_mode": {
    "name": "ipython",
    "version": 3
   },
   "file_extension": ".py",
   "mimetype": "text/x-python",
   "name": "python",
   "nbconvert_exporter": "python",
   "pygments_lexer": "ipython3",
   "version": "3.12.3"
  }
 },
 "nbformat": 4,
 "nbformat_minor": 5
}
